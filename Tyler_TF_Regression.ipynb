{
 "cells": [
  {
   "cell_type": "code",
   "execution_count": 87,
   "metadata": {},
   "outputs": [],
   "source": [
    "import pandas as pd\n",
    "import numpy as np\n",
    "\n",
    "# data preprocessing\n",
    "from sklearn import preprocessing\n",
    "\n",
    "# exploratory analysis\n",
    "import matplotlib.pyplot as plt\n",
    "import mlxtend\n",
    "from mlxtend.plotting import scatterplotmatrix\n",
    "from mlxtend.plotting import heatmap\n",
    "import seaborn as sns\n",
    "from IPython.display import Image\n",
    "\n",
    "# model fit\n",
    "import statsmodels.api as sm\n",
    "import tensorflow as tf\n",
    "\n",
    "from tensorflow import keras\n",
    "from tensorflow.keras import layers\n",
    "\n",
    "# ignore warnings (libraries are rapidly changing)\n",
    "import warnings\n",
    "warnings.filterwarnings('ignore')\n",
    "\n",
    "from sklearn.metrics import r2_score\n",
    "\n",
    "top_200_df = pd.read_csv(\"./Top_200_Stream_Count_Regression_Dataset.csv\")"
   ]
  },
  {
   "cell_type": "code",
   "execution_count": 88,
   "metadata": {},
   "outputs": [
    {
     "data": {
      "text/plain": [
       "Index(['id', 'name', 'popularity', 'duration_ms', 'explicit', 'artists',\n",
       "       'id_artists', 'release_date', 'danceability', 'energy', 'key',\n",
       "       'loudness', 'mode', 'speechiness', 'acousticness', 'instrumentalness',\n",
       "       'liveness', 'valence', 'tempo', 'time_signature', 'top_200_presence',\n",
       "       'total_follower_count', 'log_total_follower_count', 'track_id',\n",
       "       'streams', 'log_artist_streams'],\n",
       "      dtype='object')"
      ]
     },
     "execution_count": 88,
     "metadata": {},
     "output_type": "execute_result"
    }
   ],
   "source": [
    "top_200_df.columns"
   ]
  },
  {
   "cell_type": "code",
   "execution_count": 89,
   "metadata": {},
   "outputs": [],
   "source": [
    "# immediately drop some columns that we will not be using.\n",
    "drop_columns = [\n",
    "    'id',\n",
    "    'name',\n",
    "    'artists',\n",
    "    'id_artists',\n",
    "    'mode',\n",
    "    'tempo',\n",
    "    'track_id',\n",
    "    'time_signature',\n",
    "    'key',\n",
    "    'top_200_presence', # these are all true anyways\n",
    "    'popularity', # this isn't something you can control\n",
    "]\n",
    "top_200_df = top_200_df.drop(drop_columns, axis=1)"
   ]
  },
  {
   "cell_type": "code",
   "execution_count": 90,
   "metadata": {},
   "outputs": [],
   "source": [
    "top_200_df['month'] = pd.DatetimeIndex(top_200_df['release_date']).month\n",
    "top_200_df['year'] = pd.DatetimeIndex(top_200_df['release_date']).year\n",
    "top_200_df['day_of_week'] = pd.DatetimeIndex(top_200_df['release_date']).dayofweek # 0 is Monday"
   ]
  },
  {
   "cell_type": "code",
   "execution_count": 91,
   "metadata": {},
   "outputs": [],
   "source": [
    "# no longer need the release_date, as one-hot encodings have been made for week, year, and month\n",
    "top_200_df = top_200_df.drop(['release_date'], axis=1)"
   ]
  },
  {
   "cell_type": "code",
   "execution_count": 92,
   "metadata": {},
   "outputs": [],
   "source": [
    "# get one-hot encodings for both day_of_week and month\n",
    "top_200_df = pd.get_dummies(top_200_df, columns=['day_of_week'])\n",
    "top_200_df = pd.get_dummies(top_200_df, columns=['month'])"
   ]
  },
  {
   "cell_type": "code",
   "execution_count": 117,
   "metadata": {},
   "outputs": [
    {
     "data": {
      "image/png": "[encoded data removed]",
      "text/plain": [
       "<Figure size 1260x360 with 1 Axes>"
      ]
     },
     "metadata": {
      "needs_background": "light"
     },
     "output_type": "display_data"
    }
   ],
   "source": [
    "# # takes in a list of column names, representing one-hot encodings (like day_of_week_1, 2, etc...)\n",
    "def visualize_bar_charts(encodings, target_feature=\"log_artist_streams\"):\n",
    "    encoding_average_map = {}\n",
    "    for encoding in encodings:\n",
    "        average_target_feature = top_200_df.query(f'{encoding} == \"1\"')[target_feature].mean()\n",
    "        encoding_average_map[encoding] = average_target_feature\n",
    "        \n",
    "    \n",
    "    labels = list(encoding_average_map.keys())\n",
    "    values = list(encoding_average_map.values())\n",
    "    f = plt.figure()\n",
    "    f.set_figwidth(len(labels) * 2.5)\n",
    "    f.set_figheight(5)\n",
    "    plt.bar(range(len(labels)), values, tick_label=labels)\n",
    "    plt.ylabel(target_feature, fontsize = 15)\n",
    "    plt.show()\n",
    "\n",
    "day_of_week_encodings = []\n",
    "for i in range(0,7):\n",
    "    day_of_week_encodings.append(f'day_of_week_{i}')\n",
    "\n",
    "month_encodings = []\n",
    "for i in range(1, 12):\n",
    "    month_encodings.append(f'month_{i}')\n",
    "    \n",
    "visualize_bar_charts(day_of_week_encodings, \"streams\")\n",
    "# visualize_bar_charts(day_of_week_encodings, \"log_artist_streams\")\n",
    "\n",
    "# visualize_bar_charts(month_encodings, \"streams\")\n",
    "# visualize_bar_charts(month_encodings, \"log_artist_streams\")\n",
    "    \n"
   ]
  },
  {
   "cell_type": "code",
   "execution_count": 125,
   "metadata": {},
   "outputs": [],
   "source": [
    "# # takes in a list of column names, representing one-hot encodings (like day_of_week_1, 2, etc...)\n",
    "def visualize_box_plots(encodings, target_feature=\"log_artist_streams\"):\n",
    "    data = []\n",
    "    data_counts = {}\n",
    "    for encoding in encodings:\n",
    "        encoding_data = top_200_df.query(f'{encoding} == 1')[target_feature]\n",
    "        data_counts[encoding] = len(encoding_data)\n",
    "        data.append(encoding_data)\n",
    "        \n",
    "    fig = plt.figure(figsize =(10, 7))\n",
    "    ax = fig.add_axes([0, 0, 1, 1])\n",
    "    bp = ax.boxplot(data)\n",
    "    plt.show()\n",
    "    print(data_counts)"
   ]
  },
  {
   "cell_type": "code",
   "execution_count": 126,
   "metadata": {},
   "outputs": [
    {
     "data": {
      "image/png": "[encoded data removed]",
      "text/plain": [
       "<Figure size 720x504 with 1 Axes>"
      ]
     },
     "metadata": {
      "needs_background": "light"
     },
     "output_type": "display_data"
    },
    {
     "name": "stdout",
     "output_type": "stream",
     "text": [
      "{'day_of_week_0': 42, 'day_of_week_1': 38, 'day_of_week_2': 78, 'day_of_week_3': 255, 'day_of_week_4': 1325, 'day_of_week_5': 29, 'day_of_week_6': 23}\n"
     ]
    }
   ],
   "source": [
    "# vast majority of tracks are released on friday, which has a ton of variation\n",
    "# even though saturday on average is higher, it is a very small sample size.\n",
    "visualize_box_plots(day_of_week_encodings, \"log_artist_streams\")"
   ]
  },
  {
   "cell_type": "code",
   "execution_count": 28,
   "metadata": {},
   "outputs": [],
   "source": [
    "def build_and_compile_model(norm):\n",
    "  model = keras.Sequential([\n",
    "      norm, # normalization layer\n",
    "      layers.Dense(200, activation='relu'),\n",
    "      layers.Dense(200, activation='relu'),\n",
    "      layers.Dense(200, activation='relu'),\n",
    "      layers.Dense(200, activation='relu'),\n",
    "      layers.Dense(1)\n",
    "  ])\n",
    "\n",
    "  model.compile(loss='mean_absolute_error',\n",
    "                optimizer=tf.keras.optimizers.Adam(0.00008))\n",
    "  return model"
   ]
  },
  {
   "cell_type": "code",
   "execution_count": 29,
   "metadata": {},
   "outputs": [],
   "source": [
    "def plot_loss(history):\n",
    "  plt.plot(history.history['loss'], label='loss')\n",
    "  plt.plot(history.history['val_loss'], label='val_loss')\n",
    "  plt.xlabel('Epoch')\n",
    "  plt.ylabel('Error')\n",
    "  plt.legend()\n",
    "  plt.grid(True)"
   ]
  },
  {
   "cell_type": "code",
   "execution_count": 47,
   "metadata": {},
   "outputs": [],
   "source": [
    "tested_models = {}"
   ]
  },
  {
   "cell_type": "code",
   "execution_count": 44,
   "metadata": {},
   "outputs": [],
   "source": [
    "def test_model(model_name, target_feature, drop_features=[]):\n",
    "    # drop the non target feature, so it is not used in the model building.\n",
    "    dataset = None\n",
    "    if target_feature == 'streams':\n",
    "        dataset = top_200_df.drop(['log_artist_streams'], axis=1)\n",
    "    else:\n",
    "        dataset = top_200_df.drop(['streams'], axis=1)\n",
    "        \n",
    "    # drop other features\n",
    "    dataset = dataset.drop(drop_features, axis=1)\n",
    "    \n",
    "    # split into train and test\n",
    "    train_dataset = dataset.sample(frac=0.8, random_state=0)\n",
    "    test_dataset = dataset.drop(train_dataset.index)\n",
    "    \n",
    "    train_features = train_dataset.copy()\n",
    "    test_features = test_dataset.copy()\n",
    "\n",
    "    train_labels = train_features.pop(target_feature)\n",
    "    test_labels = test_features.pop(target_feature)\n",
    "    \n",
    "    normalizer = tf.keras.layers.Normalization(axis=-1)\n",
    "    normalizer.adapt(np.array(train_features).astype('float32'))\n",
    "    \n",
    "    dnn_model = build_and_compile_model(normalizer)\n",
    "    \n",
    "    train_features = train_features.astype(float)\n",
    "    train_labels = train_labels.astype(float)\n",
    "\n",
    "    test_features = test_features.astype(float)\n",
    "    test_labels = test_labels.astype(float)\n",
    "    \n",
    "    history = dnn_model.fit(\n",
    "        train_features,\n",
    "        train_labels,\n",
    "        validation_split=0.2,\n",
    "        verbose=0, epochs=200)\n",
    "    \n",
    "    plot_loss(history)\n",
    "    \n",
    "    predicted_labels = dnn_model.predict(test_features)\n",
    "    actual_labels = list(test_labels)\n",
    "    coefficient_of_dermination = r2_score(actual_labels, predicted_labels)\n",
    "    \n",
    "    print(coefficient_of_dermination)\n",
    "    \n",
    "    tested_models[model_name] = dnn_model"
   ]
  },
  {
   "cell_type": "code",
   "execution_count": 45,
   "metadata": {},
   "outputs": [
    {
     "name": "stdout",
     "output_type": "stream",
     "text": [
      "12/12 [==============================] - 0s 1ms/step\n",
      "0.13976427669729286\n"
     ]
    },
    {
     "data": {
      "image/png": "[encoded data removed]",
      "text/plain": [
       "<Figure size 432x288 with 1 Axes>"
      ]
     },
     "metadata": {
      "needs_background": "light"
     },
     "output_type": "display_data"
    }
   ],
   "source": [
    "test_model('base_model', 'streams', drop_features=[])"
   ]
  },
  {
   "cell_type": "code",
   "execution_count": 61,
   "metadata": {},
   "outputs": [
    {
     "name": "stdout",
     "output_type": "stream",
     "text": [
      "12/12 [==============================] - 0s 1ms/step\n",
      "0.05600196680513314\n"
     ]
    },
    {
     "data": {
      "image/png": "[encoded data removed]",
      "text/plain": [
       "<Figure size 432x288 with 1 Axes>"
      ]
     },
     "metadata": {
      "needs_background": "light"
     },
     "output_type": "display_data"
    }
   ],
   "source": [
    "test_model('drop_total_follower_count', 'streams', drop_features=['total_follower_count'])"
   ]
  }
 ],
 "metadata": {
  "kernelspec": {
   "display_name": "Python 3",
   "language": "python",
   "name": "python3"
  },
  "language_info": {
   "codemirror_mode": {
    "name": "ipython",
    "version": 3
   },
   "file_extension": ".py",
   "mimetype": "text/x-python",
   "name": "python",
   "nbconvert_exporter": "python",
   "pygments_lexer": "ipython3",
   "version": "3.8.5"
  }
 },
 "nbformat": 4,
 "nbformat_minor": 4
}
